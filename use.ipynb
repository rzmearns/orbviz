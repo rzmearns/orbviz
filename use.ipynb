{
 "cells": [
  {
   "cell_type": "code",
   "execution_count": 64,
   "metadata": {},
   "outputs": [],
   "source": [
    "from importlib import reload\n",
    "import satplot\n",
    "from satplot.model import timespan\n",
    "from satplot.model import orbit\n",
    "import datetime as dt\n",
    "import logging\n"
   ]
  },
  {
   "cell_type": "code",
   "execution_count": 65,
   "metadata": {},
   "outputs": [],
   "source": [
    "logger = logging.getLogger(__name__)\n",
    "logger.setLevel(logging.DEBUG)"
   ]
  },
  {
   "cell_type": "code",
   "execution_count": 66,
   "metadata": {},
   "outputs": [],
   "source": [
    "# %matplotlib inline\n",
    "# %config InlineBackend.close_figures = False\n",
    "import matplotlib.pyplot as plt"
   ]
  },
  {
   "cell_type": "code",
   "execution_count": 67,
   "metadata": {},
   "outputs": [],
   "source": [
    "from satplot.visualiser import orbit as orbitvis"
   ]
  },
  {
   "cell_type": "code",
   "execution_count": 68,
   "metadata": {},
   "outputs": [
    {
     "data": {
      "text/plain": [
       "<module 'satplot.model.geometry.transformations' from '/home/tubal/Documents/MSLPersonal/SpIRIT/sw/satplot/satplot/model/geometry/transformations.py'>"
      ]
     },
     "execution_count": 68,
     "metadata": {},
     "output_type": "execute_result"
    }
   ],
   "source": [
    "reload(satplot); reload(satplot.model); reload(satplot.model.timespan); reload(satplot.model.orbit)\n",
    "reload(satplot.visualiser.basevisualiser);  reload(satplot.visualiser.utils); reload(satplot.visualiser.orbit)\n",
    "reload(satplot.visualiser.Assets); reload(satplot.model.geometry.transformations)"
   ]
  },
  {
   "cell_type": "code",
   "execution_count": 69,
   "metadata": {},
   "outputs": [
    {
     "name": "stdout",
     "output_type": "stream",
     "text": [
      "Period: 2024-02-06 17:00:00->2024-02-06 17:40:00\n",
      "Duration: 0:40:00\n",
      "Number Steps: 80\n",
      "Number of steps in single orbit: 189\n",
      "Length of timestep: 0:00:30\n"
     ]
    }
   ],
   "source": [
    "t = timespan.TimeSpan(dt.datetime(2024,2,6,17,0,0), timestep = '30S', timeperiod='40M')\n",
    "o = orbit.Orbit.fromTLE(t,'data/TLEs/TLE_latest.txt')\n",
    "print(f\"Period: {t.start}->{t.end}\")\n",
    "print(f\"Duration: {t.time_period}\")\n",
    "print(f\"Number Steps: {len(t)}\")\n",
    "print(f\"Number of steps in single orbit: {o.steps_orbital_period}\")\n",
    "print(f\"Length of timestep: {t.time_step}\")"
   ]
  },
  {
   "cell_type": "code",
   "execution_count": 70,
   "metadata": {},
   "outputs": [
    {
     "name": "stdout",
     "output_type": "stream",
     "text": [
      "[ 587.65433607 1217.4671693  6744.46388405]\n",
      "[ 2194.51177348 -7204.01865324  1115.48774635]\n"
     ]
    }
   ],
   "source": [
    "print(o.getPosition(0))\n",
    "print(o.getVelocity(0))"
   ]
  },
  {
   "cell_type": "code",
   "execution_count": 71,
   "metadata": {},
   "outputs": [
    {
     "name": "stderr",
     "output_type": "stream",
     "text": [
      "Timespan has insufficient data points for the requested orbit fraction\n"
     ]
    },
    {
     "name": "stdout",
     "output_type": "stream",
     "text": [
      "self.fig:Figure(640x480)\n",
      "self.ax:Axes3DSubplot(0.125,0.11;0.775x0.77)\n",
      "setting limit\n"
     ]
    },
    {
     "data": {
      "text/plain": [
       "{'color': \"Colour to be used for orbit trajectory. dflt: 'b'. fmt: matplotlib color string or (4,) np array\",\n",
       " 'pos_marker': \"Marker to be used for indexed orbit position. dflt: 'x'. fmt: matplotlib marker string\",\n",
       " 'marker_size': \"Marker size to be used for indexed orbit position. dflt: '20'. fmt: int\",\n",
       " 'umbra_color': \"Color to be used with the umbra cylinder. dflt: '[0.4296875 0.4296875 0.4296875 0.5      ]'. fmt: matplotlib color string or (4,) np array\",\n",
       " 'umbra_edge': \"Color to be used with the umbra edge. dflt: '[0.4296875 0.4296875 0.4296875 0.5      ]'. fmt: matplotlib color string or (4,) np array\",\n",
       " 'orbital_length': \"Multiplier for how many orbital periods are to be plotted. dflt: '1'. fmt: float\",\n",
       " 'x_units': \"Unit to be displayed on x axis. dflt: 'x [km]'.\",\n",
       " 'y_units': \"Unit to be displayed on y axis. dflt: 'y [km]'.\",\n",
       " 'z_units': \"Unit to be displayed on z axis. dflt: 'z [km]'.\"}"
      ]
     },
     "execution_count": 71,
     "metadata": {},
     "output_type": "execute_result"
    }
   ],
   "source": [
    "plt.close()\n",
    "oVis = orbitvis.OrbitVisualiser()\n",
    "oVis.setSource(o)\n",
    "oVis.opts_help"
   ]
  },
  {
   "cell_type": "code",
   "execution_count": 76,
   "metadata": {},
   "outputs": [],
   "source": [
    "oVis.opts['umbra_color']=[0.4,0.4,0.4,0.1]\n",
    "oVis.opts['umbra_edge']=oVis.opts['umbra_color']"
   ]
  },
  {
   "cell_type": "code",
   "execution_count": 77,
   "metadata": {},
   "outputs": [
    {
     "name": "stdout",
     "output_type": "stream",
     "text": [
      "0->80\n"
     ]
    }
   ],
   "source": [
    "\n",
    "\n",
    "oVis.draw()"
   ]
  }
 ],
 "metadata": {
  "kernelspec": {
   "display_name": "Python 3",
   "language": "python",
   "name": "python3"
  },
  "language_info": {
   "codemirror_mode": {
    "name": "ipython",
    "version": 3
   },
   "file_extension": ".py",
   "mimetype": "text/x-python",
   "name": "python",
   "nbconvert_exporter": "python",
   "pygments_lexer": "ipython3",
   "version": "3.10.12"
  }
 },
 "nbformat": 4,
 "nbformat_minor": 2
}
